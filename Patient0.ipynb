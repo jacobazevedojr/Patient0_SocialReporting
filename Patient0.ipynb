{
 "cells": [
  {
   "cell_type": "code",
   "execution_count": 12,
   "id": "positive-audio",
   "metadata": {
    "scrolled": true
   },
   "outputs": [
    {
     "name": "stdout",
     "output_type": "stream",
     "text": [
      "Verified\n",
      "Mardi Gras\n",
      "\n",
      "{'attributes': {}, 'bounding_box': {'coordinates': [[[144.593741856, -38.433859306], [145.512528832, -38.433859306], [145.512528832, -37.5112737225], [144.593741856, -37.5112737225]]], 'type': 'Polygon'}, 'contained_within': [], 'country': 'Australia', 'country_code': 'AU', 'full_name': 'Melbourne, Victoria', 'id': '01864a8a64df9dc4', 'name': 'Melbourne', 'place_type': 'city', 'url': 'https://api.twitter.com/1.1/geo/id/01864a8a64df9dc4.json'}\n",
      "St. Patrick's Day\n",
      "\n",
      "{'attributes': {}, 'bounding_box': {'coordinates': [[[-94.965076, 39.266719], [-94.89041, 39.266719], [-94.89041, 39.375576], [-94.965076, 39.375576]]], 'type': 'Polygon'}, 'contained_within': [], 'country': 'United States', 'country_code': 'US', 'full_name': 'Leavenworth, KS', 'id': '70d4570609cf6e35', 'name': 'Leavenworth', 'place_type': 'city', 'url': 'https://api.twitter.com/1.1/geo/id/70d4570609cf6e35.json'}\n",
      "St. Patrick's Day\n",
      "\n",
      "{'attributes': {}, 'bounding_box': {'coordinates': [[[-81.396939, 28.48211], [-81.375427, 28.48211], [-81.375427, 28.514643], [-81.396939, 28.514643]]], 'type': 'Polygon'}, 'contained_within': [], 'country': 'United States', 'country_code': 'US', 'full_name': 'Holden Heights, FL', 'id': '2ab40a773d979b93', 'name': 'Holden Heights', 'place_type': 'city', 'url': 'https://api.twitter.com/1.1/geo/id/2ab40a773d979b93.json'}\n",
      "St. Patrick's Day\n",
      "\n",
      "{'attributes': {}, 'bounding_box': {'coordinates': [[[-8.4276429, 53.8053145], [-7.5838515, 53.8053145], [-7.5838515, 54.4756773], [-8.4276429, 54.4756773]]], 'type': 'Polygon'}, 'contained_within': [], 'country': 'Ireland', 'country_code': 'IE', 'full_name': 'Leitrim, Ireland', 'id': 'fcdd35aefb9c84d3', 'name': 'Leitrim', 'place_type': 'city', 'url': 'https://api.twitter.com/1.1/geo/id/fcdd35aefb9c84d3.json'}\n",
      "Power Outage\n",
      "\n",
      "{'attributes': {}, 'bounding_box': {'coordinates': [[[7.3045544, 8.961887], [7.5436339, 8.961887], [7.5436339, 9.1854407], [7.3045544, 9.1854407]]], 'type': 'Polygon'}, 'contained_within': [], 'country': 'Nigeria', 'country_code': 'NG', 'full_name': 'Abuja, Nigeria', 'id': '00e55e2b4c491c5f', 'name': 'Abuja', 'place_type': 'city', 'url': 'https://api.twitter.com/1.1/geo/id/00e55e2b4c491c5f.json'}\n",
      "Power Outage\n",
      "\n",
      "{'attributes': {}, 'bounding_box': {'coordinates': [[[-90.340682, 38.808252], [-90.2296083, 38.808252], [-90.2296083, 38.872514], [-90.340682, 38.872514]]], 'type': 'Polygon'}, 'contained_within': [], 'country': 'United States', 'country_code': 'US', 'full_name': 'Old Jamestown, MO', 'id': '01207761679efbc2', 'name': 'Old Jamestown', 'place_type': 'city', 'url': 'https://api.twitter.com/1.1/geo/id/01207761679efbc2.json'}\n",
      "Power\n",
      "\n",
      "{'attributes': {}, 'bounding_box': {'coordinates': [[[-117.3253189, 47.627801], [-117.1435591, 47.627801], [-117.1435591, 47.697352], [-117.3253189, 47.697352]]], 'type': 'Polygon'}, 'contained_within': [], 'country': 'United States', 'country_code': 'US', 'full_name': 'Spokane Valley, WA', 'id': '0147373d5e0cb283', 'name': 'Spokane Valley', 'place_type': 'city', 'url': 'https://api.twitter.com/1.1/geo/id/0147373d5e0cb283.json'}\n",
      "Power\n",
      "\n",
      "[40.72008, -74.00499]\n",
      "Power\n",
      "\n",
      "{'attributes': {}, 'bounding_box': {'coordinates': [[[-74.026675, 40.683935], [-73.910408, 40.683935], [-73.910408, 40.877483], [-74.026675, 40.877483]]], 'type': 'Polygon'}, 'contained_within': [], 'country': 'United States', 'country_code': 'US', 'full_name': 'Manhattan, NY', 'id': '01a9a39529b27f36', 'name': 'Manhattan', 'place_type': 'city', 'url': 'https://api.twitter.com/1.1/geo/id/01a9a39529b27f36.json'}\n",
      "Texas\n",
      "\n",
      "[32.7774, -96.7977]\n",
      "Texas\n",
      "\n",
      "{'attributes': {}, 'bounding_box': {'coordinates': [[[-96.977527, 32.620678], [-96.54598, 32.620678], [-96.54598, 33.019039], [-96.977527, 33.019039]]], 'type': 'Polygon'}, 'contained_within': [], 'country': 'United States', 'country_code': 'US', 'full_name': 'Dallas, TX', 'id': '18810aa5b43e76c7', 'name': 'Dallas', 'place_type': 'city', 'url': 'https://api.twitter.com/1.1/geo/id/18810aa5b43e76c7.json'}\n",
      "Texas\n",
      "\n",
      "[27.81038803, -97.3929888]\n",
      "Texas\n",
      "\n",
      "{'attributes': {}, 'bounding_box': {'coordinates': [[[-97.662618, 27.578509], [-97.202232, 27.578509], [-97.202232, 27.895793], [-97.662618, 27.895793]]], 'type': 'Polygon'}, 'contained_within': [], 'country': 'United States', 'country_code': 'US', 'full_name': 'Corpus Christi, TX', 'id': 'a3d770a00f15bcb1', 'name': 'Corpus Christi', 'place_type': 'city', 'url': 'https://api.twitter.com/1.1/geo/id/a3d770a00f15bcb1.json'}\n",
      "No Power\n",
      "\n",
      "[40.72008, -74.00499]\n",
      "No Power\n",
      "\n",
      "{'attributes': {}, 'bounding_box': {'coordinates': [[[-74.026675, 40.683935], [-73.910408, 40.683935], [-73.910408, 40.877483], [-74.026675, 40.877483]]], 'type': 'Polygon'}, 'contained_within': [], 'country': 'United States', 'country_code': 'US', 'full_name': 'Manhattan, NY', 'id': '01a9a39529b27f36', 'name': 'Manhattan', 'place_type': 'city', 'url': 'https://api.twitter.com/1.1/geo/id/01a9a39529b27f36.json'}\n"
     ]
    }
   ],
   "source": [
    "# This cell builds the P0Archive csv\n",
    "\n",
    "from TwitterParse import TwitterParse\n",
    "import simplejson as json\n",
    "import csv\n",
    "\n",
    "# Dictionary for holding sensitive information\n",
    "twitterKeys = None\n",
    "\n",
    "read = open(\"sensitive.json\", \"r\")\n",
    "twitterKeys = json.load(read)\n",
    "\n",
    "test = TwitterParse(twitterKeys[\"consumer_key\"], twitterKeys[\"consumer_secret\"], twitterKeys[\"ACCESS_TOKEN\"], twitterKeys[\"ACCESS_TOKEN_SECRET\"])\n",
    "test.drive(\"strings.txt\", \"P0Archive.csv\")"
   ]
  },
  {
   "cell_type": "code",
   "execution_count": 16,
   "id": "union-grace",
   "metadata": {},
   "outputs": [],
   "source": [
    "# This cell should define a machine learning model class that takes in the P0 archive and generates inferences\n",
    "class TweetClassifier:\n",
    "    \n",
    "    def __init__(self, model):\n",
    "        pass\n",
    "    \n",
    "    def train(self, trainingData):\n",
    "        pass\n",
    "    \n",
    "    def classify(self, testData):\n",
    "        pass"
   ]
  },
  {
   "cell_type": "code",
   "execution_count": null,
   "id": "alien-intervention",
   "metadata": {},
   "outputs": [],
   "source": [
    "# Train the TweetClassifier Model:\n",
    "    "
   ]
  },
  {
   "cell_type": "code",
   "execution_count": 18,
   "id": "flexible-bundle",
   "metadata": {},
   "outputs": [],
   "source": [
    "# This cell should define a machine learning model class that can diagnose based on symptom reporting\n",
    "class MLDiagnoser:\n",
    "    \n",
    "    def __init__(self, model):\n",
    "        pass\n",
    "    \n",
    "    # Should return a list of pairs, ordered from greatest probability to least\n",
    "    # [(.99, \"Common Cold\"), (.87, \"Coronavirus-19\"), (etc)]\n",
    "    def getDiagnosis(self):\n",
    "        pass\n",
    "    \n",
    "    # Should input training data and output a calibrated model\n",
    "    def train(self, trainingData)\n",
    "        pass\n",
    "    \n",
    "    # Should input test data, and initialize the diagnosis list\n",
    "    def diagnose(self, testData)\n",
    "    \n",
    "    # Analyzes a group of people (geographically linked)\n",
    "    \n",
    "    # When there are inaccuracies in diagnosing a single person, \n",
    "    # looking a the entire population may give us more accurate results\n",
    "    \n",
    "    # The hope is that if one person isn't entirely descriptive with their symptoms, \n",
    "    # but others are, they can balance each other and hopefully\n",
    "    # we can notice patterns that allow for us to better diagnose the whole population\n",
    "    # effectively monitoring outbreaks with social reporting\n",
    "    def groupDiagonse(self, listOflistsOfDiagnosis):\n",
    "        pass"
   ]
  },
  {
   "cell_type": "code",
   "execution_count": 19,
   "id": "nuclear-macintosh",
   "metadata": {},
   "outputs": [
    {
     "ename": "SyntaxError",
     "evalue": "unexpected EOF while parsing (<ipython-input-19-a3544d4f9c3a>, line 17)",
     "output_type": "error",
     "traceback": [
      "\u001b[1;36m  File \u001b[1;32m\"<ipython-input-19-a3544d4f9c3a>\"\u001b[1;36m, line \u001b[1;32m17\u001b[0m\n\u001b[1;33m    for tweet in tweets:\u001b[0m\n\u001b[1;37m                        ^\u001b[0m\n\u001b[1;31mSyntaxError\u001b[0m\u001b[1;31m:\u001b[0m unexpected EOF while parsing\n"
     ]
    }
   ],
   "source": [
    "# # This cell should drive the process\n",
    "\n",
    "# # Object for classifying tweets within archive\n",
    "# tC = TweetClassifier(\"P0Archive.csv\")\n",
    "# # Filters all tweets and returns the ones that are valid to the search\n",
    "# tweets = tC.getValidTweets()\n",
    "\n",
    "# # From the valid tweets, check to see if any inferences can be made\n",
    "# # This section is for crunching the cleaned, and filtered data.\n",
    "# # Unfortunately, Twitter doesn't always share location data, but we can create a test data set as if they did\n",
    "\n",
    "# # The idea is we will store the model and load it after it is trained\n",
    "# # The model can diagnose individuals or entire populations\n",
    "# model = None\n",
    "# mlDoc = MLDiagnoser(model)\n",
    "\n",
    "# for tweet in tweets:\n",
    "#     mlDoc.diagnose(tweet)"
   ]
  },
  {
   "cell_type": "code",
   "execution_count": null,
   "id": "stable-mechanism",
   "metadata": {},
   "outputs": [],
   "source": []
  }
 ],
 "metadata": {
  "kernelspec": {
   "display_name": "Python 3",
   "language": "python",
   "name": "python3"
  },
  "language_info": {
   "codemirror_mode": {
    "name": "ipython",
    "version": 3
   },
   "file_extension": ".py",
   "mimetype": "text/x-python",
   "name": "python",
   "nbconvert_exporter": "python",
   "pygments_lexer": "ipython3",
   "version": "3.8.8"
  }
 },
 "nbformat": 4,
 "nbformat_minor": 5
}
